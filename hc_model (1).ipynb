{
  "cells": [
    {
      "cell_type": "code",
      "execution_count": 53,
      "id": "95d11bff",
      "metadata": {
        "_cell_guid": "b1076dfc-b9ad-4769-8c92-a6c4dae69d19",
        "_uuid": "8f2839f25d086af736a60e9eeb907d3b93b6e0e5",
        "execution": {
          "iopub.execute_input": "2025-03-21T10:58:51.754949Z",
          "iopub.status.busy": "2025-03-21T10:58:51.754455Z",
          "iopub.status.idle": "2025-03-21T10:59:10.414244Z",
          "shell.execute_reply": "2025-03-21T10:59:10.413218Z"
        },
        "papermill": {
          "duration": 18.669212,
          "end_time": "2025-03-21T10:59:10.416197",
          "exception": false,
          "start_time": "2025-03-21T10:58:51.746985",
          "status": "completed"
        },
        "tags": [],
        "id": "95d11bff"
      },
      "outputs": [],
      "source": [
        "import pandas as pd\n",
        "import numpy as np\n",
        "from sklearn.preprocessing import StandardScaler, OneHotEncoder\n",
        "from sklearn.compose import ColumnTransformer\n",
        "from tensorflow.keras.models import load_model\n",
        "from joblib import load"
      ]
    },
    {
      "cell_type": "markdown",
      "id": "de55bfab",
      "metadata": {
        "papermill": {
          "duration": 0.005302,
          "end_time": "2025-03-21T10:59:10.427646",
          "exception": false,
          "start_time": "2025-03-21T10:59:10.422344",
          "status": "completed"
        },
        "tags": [],
        "id": "de55bfab"
      },
      "source": [
        "1. DATA OVERVIEW"
      ]
    },
    {
      "cell_type": "code",
      "execution_count": 54,
      "id": "ef63f682",
      "metadata": {
        "execution": {
          "iopub.execute_input": "2025-03-21T10:59:10.440490Z",
          "iopub.status.busy": "2025-03-21T10:59:10.439746Z",
          "iopub.status.idle": "2025-03-21T10:59:10.506113Z",
          "shell.execute_reply": "2025-03-21T10:59:10.504896Z"
        },
        "papermill": {
          "duration": 0.074885,
          "end_time": "2025-03-21T10:59:10.508091",
          "exception": false,
          "start_time": "2025-03-21T10:59:10.433206",
          "status": "completed"
        },
        "tags": [],
        "colab": {
          "base_uri": "https://localhost:8080/",
          "height": 363
        },
        "id": "ef63f682",
        "outputId": "1d13294c-13eb-40ab-b64d-1eb9a266e9ec"
      },
      "outputs": [
        {
          "output_type": "execute_result",
          "data": {
            "text/plain": [
              "   age  sex  cp  trestbps  chol  fbs  restecg  thalach  exang  oldpeak  slope  \\\n",
              "0   52    1   0       125   212    0        1      168      0      1.0      2   \n",
              "1   53    1   0       140   203    1        0      155      1      3.1      0   \n",
              "2   70    1   0       145   174    0        1      125      1      2.6      0   \n",
              "3   61    1   0       148   203    0        1      161      0      0.0      2   \n",
              "4   62    0   0       138   294    1        1      106      0      1.9      1   \n",
              "5   58    0   0       100   248    0        0      122      0      1.0      1   \n",
              "6   58    1   0       114   318    0        2      140      0      4.4      0   \n",
              "7   55    1   0       160   289    0        0      145      1      0.8      1   \n",
              "8   46    1   0       120   249    0        0      144      0      0.8      2   \n",
              "9   54    1   0       122   286    0        0      116      1      3.2      1   \n",
              "\n",
              "   ca  thal  target  \n",
              "0   2     3       0  \n",
              "1   0     3       0  \n",
              "2   0     3       0  \n",
              "3   1     3       0  \n",
              "4   3     2       0  \n",
              "5   0     2       1  \n",
              "6   3     1       0  \n",
              "7   1     3       0  \n",
              "8   0     3       0  \n",
              "9   2     2       0  "
            ],
            "text/html": [
              "\n",
              "  <div id=\"df-cc1f8ac6-976c-48db-bec7-5bdf203ce45b\" class=\"colab-df-container\">\n",
              "    <div>\n",
              "<style scoped>\n",
              "    .dataframe tbody tr th:only-of-type {\n",
              "        vertical-align: middle;\n",
              "    }\n",
              "\n",
              "    .dataframe tbody tr th {\n",
              "        vertical-align: top;\n",
              "    }\n",
              "\n",
              "    .dataframe thead th {\n",
              "        text-align: right;\n",
              "    }\n",
              "</style>\n",
              "<table border=\"1\" class=\"dataframe\">\n",
              "  <thead>\n",
              "    <tr style=\"text-align: right;\">\n",
              "      <th></th>\n",
              "      <th>age</th>\n",
              "      <th>sex</th>\n",
              "      <th>cp</th>\n",
              "      <th>trestbps</th>\n",
              "      <th>chol</th>\n",
              "      <th>fbs</th>\n",
              "      <th>restecg</th>\n",
              "      <th>thalach</th>\n",
              "      <th>exang</th>\n",
              "      <th>oldpeak</th>\n",
              "      <th>slope</th>\n",
              "      <th>ca</th>\n",
              "      <th>thal</th>\n",
              "      <th>target</th>\n",
              "    </tr>\n",
              "  </thead>\n",
              "  <tbody>\n",
              "    <tr>\n",
              "      <th>0</th>\n",
              "      <td>52</td>\n",
              "      <td>1</td>\n",
              "      <td>0</td>\n",
              "      <td>125</td>\n",
              "      <td>212</td>\n",
              "      <td>0</td>\n",
              "      <td>1</td>\n",
              "      <td>168</td>\n",
              "      <td>0</td>\n",
              "      <td>1.0</td>\n",
              "      <td>2</td>\n",
              "      <td>2</td>\n",
              "      <td>3</td>\n",
              "      <td>0</td>\n",
              "    </tr>\n",
              "    <tr>\n",
              "      <th>1</th>\n",
              "      <td>53</td>\n",
              "      <td>1</td>\n",
              "      <td>0</td>\n",
              "      <td>140</td>\n",
              "      <td>203</td>\n",
              "      <td>1</td>\n",
              "      <td>0</td>\n",
              "      <td>155</td>\n",
              "      <td>1</td>\n",
              "      <td>3.1</td>\n",
              "      <td>0</td>\n",
              "      <td>0</td>\n",
              "      <td>3</td>\n",
              "      <td>0</td>\n",
              "    </tr>\n",
              "    <tr>\n",
              "      <th>2</th>\n",
              "      <td>70</td>\n",
              "      <td>1</td>\n",
              "      <td>0</td>\n",
              "      <td>145</td>\n",
              "      <td>174</td>\n",
              "      <td>0</td>\n",
              "      <td>1</td>\n",
              "      <td>125</td>\n",
              "      <td>1</td>\n",
              "      <td>2.6</td>\n",
              "      <td>0</td>\n",
              "      <td>0</td>\n",
              "      <td>3</td>\n",
              "      <td>0</td>\n",
              "    </tr>\n",
              "    <tr>\n",
              "      <th>3</th>\n",
              "      <td>61</td>\n",
              "      <td>1</td>\n",
              "      <td>0</td>\n",
              "      <td>148</td>\n",
              "      <td>203</td>\n",
              "      <td>0</td>\n",
              "      <td>1</td>\n",
              "      <td>161</td>\n",
              "      <td>0</td>\n",
              "      <td>0.0</td>\n",
              "      <td>2</td>\n",
              "      <td>1</td>\n",
              "      <td>3</td>\n",
              "      <td>0</td>\n",
              "    </tr>\n",
              "    <tr>\n",
              "      <th>4</th>\n",
              "      <td>62</td>\n",
              "      <td>0</td>\n",
              "      <td>0</td>\n",
              "      <td>138</td>\n",
              "      <td>294</td>\n",
              "      <td>1</td>\n",
              "      <td>1</td>\n",
              "      <td>106</td>\n",
              "      <td>0</td>\n",
              "      <td>1.9</td>\n",
              "      <td>1</td>\n",
              "      <td>3</td>\n",
              "      <td>2</td>\n",
              "      <td>0</td>\n",
              "    </tr>\n",
              "    <tr>\n",
              "      <th>5</th>\n",
              "      <td>58</td>\n",
              "      <td>0</td>\n",
              "      <td>0</td>\n",
              "      <td>100</td>\n",
              "      <td>248</td>\n",
              "      <td>0</td>\n",
              "      <td>0</td>\n",
              "      <td>122</td>\n",
              "      <td>0</td>\n",
              "      <td>1.0</td>\n",
              "      <td>1</td>\n",
              "      <td>0</td>\n",
              "      <td>2</td>\n",
              "      <td>1</td>\n",
              "    </tr>\n",
              "    <tr>\n",
              "      <th>6</th>\n",
              "      <td>58</td>\n",
              "      <td>1</td>\n",
              "      <td>0</td>\n",
              "      <td>114</td>\n",
              "      <td>318</td>\n",
              "      <td>0</td>\n",
              "      <td>2</td>\n",
              "      <td>140</td>\n",
              "      <td>0</td>\n",
              "      <td>4.4</td>\n",
              "      <td>0</td>\n",
              "      <td>3</td>\n",
              "      <td>1</td>\n",
              "      <td>0</td>\n",
              "    </tr>\n",
              "    <tr>\n",
              "      <th>7</th>\n",
              "      <td>55</td>\n",
              "      <td>1</td>\n",
              "      <td>0</td>\n",
              "      <td>160</td>\n",
              "      <td>289</td>\n",
              "      <td>0</td>\n",
              "      <td>0</td>\n",
              "      <td>145</td>\n",
              "      <td>1</td>\n",
              "      <td>0.8</td>\n",
              "      <td>1</td>\n",
              "      <td>1</td>\n",
              "      <td>3</td>\n",
              "      <td>0</td>\n",
              "    </tr>\n",
              "    <tr>\n",
              "      <th>8</th>\n",
              "      <td>46</td>\n",
              "      <td>1</td>\n",
              "      <td>0</td>\n",
              "      <td>120</td>\n",
              "      <td>249</td>\n",
              "      <td>0</td>\n",
              "      <td>0</td>\n",
              "      <td>144</td>\n",
              "      <td>0</td>\n",
              "      <td>0.8</td>\n",
              "      <td>2</td>\n",
              "      <td>0</td>\n",
              "      <td>3</td>\n",
              "      <td>0</td>\n",
              "    </tr>\n",
              "    <tr>\n",
              "      <th>9</th>\n",
              "      <td>54</td>\n",
              "      <td>1</td>\n",
              "      <td>0</td>\n",
              "      <td>122</td>\n",
              "      <td>286</td>\n",
              "      <td>0</td>\n",
              "      <td>0</td>\n",
              "      <td>116</td>\n",
              "      <td>1</td>\n",
              "      <td>3.2</td>\n",
              "      <td>1</td>\n",
              "      <td>2</td>\n",
              "      <td>2</td>\n",
              "      <td>0</td>\n",
              "    </tr>\n",
              "  </tbody>\n",
              "</table>\n",
              "</div>\n",
              "    <div class=\"colab-df-buttons\">\n",
              "\n",
              "  <div class=\"colab-df-container\">\n",
              "    <button class=\"colab-df-convert\" onclick=\"convertToInteractive('df-cc1f8ac6-976c-48db-bec7-5bdf203ce45b')\"\n",
              "            title=\"Convert this dataframe to an interactive table.\"\n",
              "            style=\"display:none;\">\n",
              "\n",
              "  <svg xmlns=\"http://www.w3.org/2000/svg\" height=\"24px\" viewBox=\"0 -960 960 960\">\n",
              "    <path d=\"M120-120v-720h720v720H120Zm60-500h600v-160H180v160Zm220 220h160v-160H400v160Zm0 220h160v-160H400v160ZM180-400h160v-160H180v160Zm440 0h160v-160H620v160ZM180-180h160v-160H180v160Zm440 0h160v-160H620v160Z\"/>\n",
              "  </svg>\n",
              "    </button>\n",
              "\n",
              "  <style>\n",
              "    .colab-df-container {\n",
              "      display:flex;\n",
              "      gap: 12px;\n",
              "    }\n",
              "\n",
              "    .colab-df-convert {\n",
              "      background-color: #E8F0FE;\n",
              "      border: none;\n",
              "      border-radius: 50%;\n",
              "      cursor: pointer;\n",
              "      display: none;\n",
              "      fill: #1967D2;\n",
              "      height: 32px;\n",
              "      padding: 0 0 0 0;\n",
              "      width: 32px;\n",
              "    }\n",
              "\n",
              "    .colab-df-convert:hover {\n",
              "      background-color: #E2EBFA;\n",
              "      box-shadow: 0px 1px 2px rgba(60, 64, 67, 0.3), 0px 1px 3px 1px rgba(60, 64, 67, 0.15);\n",
              "      fill: #174EA6;\n",
              "    }\n",
              "\n",
              "    .colab-df-buttons div {\n",
              "      margin-bottom: 4px;\n",
              "    }\n",
              "\n",
              "    [theme=dark] .colab-df-convert {\n",
              "      background-color: #3B4455;\n",
              "      fill: #D2E3FC;\n",
              "    }\n",
              "\n",
              "    [theme=dark] .colab-df-convert:hover {\n",
              "      background-color: #434B5C;\n",
              "      box-shadow: 0px 1px 3px 1px rgba(0, 0, 0, 0.15);\n",
              "      filter: drop-shadow(0px 1px 2px rgba(0, 0, 0, 0.3));\n",
              "      fill: #FFFFFF;\n",
              "    }\n",
              "  </style>\n",
              "\n",
              "    <script>\n",
              "      const buttonEl =\n",
              "        document.querySelector('#df-cc1f8ac6-976c-48db-bec7-5bdf203ce45b button.colab-df-convert');\n",
              "      buttonEl.style.display =\n",
              "        google.colab.kernel.accessAllowed ? 'block' : 'none';\n",
              "\n",
              "      async function convertToInteractive(key) {\n",
              "        const element = document.querySelector('#df-cc1f8ac6-976c-48db-bec7-5bdf203ce45b');\n",
              "        const dataTable =\n",
              "          await google.colab.kernel.invokeFunction('convertToInteractive',\n",
              "                                                    [key], {});\n",
              "        if (!dataTable) return;\n",
              "\n",
              "        const docLinkHtml = 'Like what you see? Visit the ' +\n",
              "          '<a target=\"_blank\" href=https://colab.research.google.com/notebooks/data_table.ipynb>data table notebook</a>'\n",
              "          + ' to learn more about interactive tables.';\n",
              "        element.innerHTML = '';\n",
              "        dataTable['output_type'] = 'display_data';\n",
              "        await google.colab.output.renderOutput(dataTable, element);\n",
              "        const docLink = document.createElement('div');\n",
              "        docLink.innerHTML = docLinkHtml;\n",
              "        element.appendChild(docLink);\n",
              "      }\n",
              "    </script>\n",
              "  </div>\n",
              "\n",
              "\n",
              "    <div id=\"df-e881ff7a-2d83-4ae7-9a4d-862059dba776\">\n",
              "      <button class=\"colab-df-quickchart\" onclick=\"quickchart('df-e881ff7a-2d83-4ae7-9a4d-862059dba776')\"\n",
              "                title=\"Suggest charts\"\n",
              "                style=\"display:none;\">\n",
              "\n",
              "<svg xmlns=\"http://www.w3.org/2000/svg\" height=\"24px\"viewBox=\"0 0 24 24\"\n",
              "     width=\"24px\">\n",
              "    <g>\n",
              "        <path d=\"M19 3H5c-1.1 0-2 .9-2 2v14c0 1.1.9 2 2 2h14c1.1 0 2-.9 2-2V5c0-1.1-.9-2-2-2zM9 17H7v-7h2v7zm4 0h-2V7h2v10zm4 0h-2v-4h2v4z\"/>\n",
              "    </g>\n",
              "</svg>\n",
              "      </button>\n",
              "\n",
              "<style>\n",
              "  .colab-df-quickchart {\n",
              "      --bg-color: #E8F0FE;\n",
              "      --fill-color: #1967D2;\n",
              "      --hover-bg-color: #E2EBFA;\n",
              "      --hover-fill-color: #174EA6;\n",
              "      --disabled-fill-color: #AAA;\n",
              "      --disabled-bg-color: #DDD;\n",
              "  }\n",
              "\n",
              "  [theme=dark] .colab-df-quickchart {\n",
              "      --bg-color: #3B4455;\n",
              "      --fill-color: #D2E3FC;\n",
              "      --hover-bg-color: #434B5C;\n",
              "      --hover-fill-color: #FFFFFF;\n",
              "      --disabled-bg-color: #3B4455;\n",
              "      --disabled-fill-color: #666;\n",
              "  }\n",
              "\n",
              "  .colab-df-quickchart {\n",
              "    background-color: var(--bg-color);\n",
              "    border: none;\n",
              "    border-radius: 50%;\n",
              "    cursor: pointer;\n",
              "    display: none;\n",
              "    fill: var(--fill-color);\n",
              "    height: 32px;\n",
              "    padding: 0;\n",
              "    width: 32px;\n",
              "  }\n",
              "\n",
              "  .colab-df-quickchart:hover {\n",
              "    background-color: var(--hover-bg-color);\n",
              "    box-shadow: 0 1px 2px rgba(60, 64, 67, 0.3), 0 1px 3px 1px rgba(60, 64, 67, 0.15);\n",
              "    fill: var(--button-hover-fill-color);\n",
              "  }\n",
              "\n",
              "  .colab-df-quickchart-complete:disabled,\n",
              "  .colab-df-quickchart-complete:disabled:hover {\n",
              "    background-color: var(--disabled-bg-color);\n",
              "    fill: var(--disabled-fill-color);\n",
              "    box-shadow: none;\n",
              "  }\n",
              "\n",
              "  .colab-df-spinner {\n",
              "    border: 2px solid var(--fill-color);\n",
              "    border-color: transparent;\n",
              "    border-bottom-color: var(--fill-color);\n",
              "    animation:\n",
              "      spin 1s steps(1) infinite;\n",
              "  }\n",
              "\n",
              "  @keyframes spin {\n",
              "    0% {\n",
              "      border-color: transparent;\n",
              "      border-bottom-color: var(--fill-color);\n",
              "      border-left-color: var(--fill-color);\n",
              "    }\n",
              "    20% {\n",
              "      border-color: transparent;\n",
              "      border-left-color: var(--fill-color);\n",
              "      border-top-color: var(--fill-color);\n",
              "    }\n",
              "    30% {\n",
              "      border-color: transparent;\n",
              "      border-left-color: var(--fill-color);\n",
              "      border-top-color: var(--fill-color);\n",
              "      border-right-color: var(--fill-color);\n",
              "    }\n",
              "    40% {\n",
              "      border-color: transparent;\n",
              "      border-right-color: var(--fill-color);\n",
              "      border-top-color: var(--fill-color);\n",
              "    }\n",
              "    60% {\n",
              "      border-color: transparent;\n",
              "      border-right-color: var(--fill-color);\n",
              "    }\n",
              "    80% {\n",
              "      border-color: transparent;\n",
              "      border-right-color: var(--fill-color);\n",
              "      border-bottom-color: var(--fill-color);\n",
              "    }\n",
              "    90% {\n",
              "      border-color: transparent;\n",
              "      border-bottom-color: var(--fill-color);\n",
              "    }\n",
              "  }\n",
              "</style>\n",
              "\n",
              "      <script>\n",
              "        async function quickchart(key) {\n",
              "          const quickchartButtonEl =\n",
              "            document.querySelector('#' + key + ' button');\n",
              "          quickchartButtonEl.disabled = true;  // To prevent multiple clicks.\n",
              "          quickchartButtonEl.classList.add('colab-df-spinner');\n",
              "          try {\n",
              "            const charts = await google.colab.kernel.invokeFunction(\n",
              "                'suggestCharts', [key], {});\n",
              "          } catch (error) {\n",
              "            console.error('Error during call to suggestCharts:', error);\n",
              "          }\n",
              "          quickchartButtonEl.classList.remove('colab-df-spinner');\n",
              "          quickchartButtonEl.classList.add('colab-df-quickchart-complete');\n",
              "        }\n",
              "        (() => {\n",
              "          let quickchartButtonEl =\n",
              "            document.querySelector('#df-e881ff7a-2d83-4ae7-9a4d-862059dba776 button');\n",
              "          quickchartButtonEl.style.display =\n",
              "            google.colab.kernel.accessAllowed ? 'block' : 'none';\n",
              "        })();\n",
              "      </script>\n",
              "    </div>\n",
              "\n",
              "    </div>\n",
              "  </div>\n"
            ],
            "application/vnd.google.colaboratory.intrinsic+json": {
              "type": "dataframe",
              "variable_name": "heart_data",
              "summary": "{\n  \"name\": \"heart_data\",\n  \"rows\": 1025,\n  \"fields\": [\n    {\n      \"column\": \"age\",\n      \"properties\": {\n        \"dtype\": \"number\",\n        \"std\": 9,\n        \"min\": 29,\n        \"max\": 77,\n        \"num_unique_values\": 41,\n        \"samples\": [\n          65,\n          50,\n          54\n        ],\n        \"semantic_type\": \"\",\n        \"description\": \"\"\n      }\n    },\n    {\n      \"column\": \"sex\",\n      \"properties\": {\n        \"dtype\": \"number\",\n        \"std\": 0,\n        \"min\": 0,\n        \"max\": 1,\n        \"num_unique_values\": 2,\n        \"samples\": [\n          0,\n          1\n        ],\n        \"semantic_type\": \"\",\n        \"description\": \"\"\n      }\n    },\n    {\n      \"column\": \"cp\",\n      \"properties\": {\n        \"dtype\": \"number\",\n        \"std\": 1,\n        \"min\": 0,\n        \"max\": 3,\n        \"num_unique_values\": 4,\n        \"samples\": [\n          1,\n          3\n        ],\n        \"semantic_type\": \"\",\n        \"description\": \"\"\n      }\n    },\n    {\n      \"column\": \"trestbps\",\n      \"properties\": {\n        \"dtype\": \"number\",\n        \"std\": 17,\n        \"min\": 94,\n        \"max\": 200,\n        \"num_unique_values\": 49,\n        \"samples\": [\n          128,\n          172\n        ],\n        \"semantic_type\": \"\",\n        \"description\": \"\"\n      }\n    },\n    {\n      \"column\": \"chol\",\n      \"properties\": {\n        \"dtype\": \"number\",\n        \"std\": 51,\n        \"min\": 126,\n        \"max\": 564,\n        \"num_unique_values\": 152,\n        \"samples\": [\n          267,\n          262\n        ],\n        \"semantic_type\": \"\",\n        \"description\": \"\"\n      }\n    },\n    {\n      \"column\": \"fbs\",\n      \"properties\": {\n        \"dtype\": \"number\",\n        \"std\": 0,\n        \"min\": 0,\n        \"max\": 1,\n        \"num_unique_values\": 2,\n        \"samples\": [\n          1,\n          0\n        ],\n        \"semantic_type\": \"\",\n        \"description\": \"\"\n      }\n    },\n    {\n      \"column\": \"restecg\",\n      \"properties\": {\n        \"dtype\": \"number\",\n        \"std\": 0,\n        \"min\": 0,\n        \"max\": 2,\n        \"num_unique_values\": 3,\n        \"samples\": [\n          1,\n          0\n        ],\n        \"semantic_type\": \"\",\n        \"description\": \"\"\n      }\n    },\n    {\n      \"column\": \"thalach\",\n      \"properties\": {\n        \"dtype\": \"number\",\n        \"std\": 23,\n        \"min\": 71,\n        \"max\": 202,\n        \"num_unique_values\": 91,\n        \"samples\": [\n          180,\n          152\n        ],\n        \"semantic_type\": \"\",\n        \"description\": \"\"\n      }\n    },\n    {\n      \"column\": \"exang\",\n      \"properties\": {\n        \"dtype\": \"number\",\n        \"std\": 0,\n        \"min\": 0,\n        \"max\": 1,\n        \"num_unique_values\": 2,\n        \"samples\": [\n          1,\n          0\n        ],\n        \"semantic_type\": \"\",\n        \"description\": \"\"\n      }\n    },\n    {\n      \"column\": \"oldpeak\",\n      \"properties\": {\n        \"dtype\": \"number\",\n        \"std\": 1.175053255150173,\n        \"min\": 0.0,\n        \"max\": 6.2,\n        \"num_unique_values\": 40,\n        \"samples\": [\n          2.8,\n          0.4\n        ],\n        \"semantic_type\": \"\",\n        \"description\": \"\"\n      }\n    },\n    {\n      \"column\": \"slope\",\n      \"properties\": {\n        \"dtype\": \"number\",\n        \"std\": 0,\n        \"min\": 0,\n        \"max\": 2,\n        \"num_unique_values\": 3,\n        \"samples\": [\n          2,\n          0\n        ],\n        \"semantic_type\": \"\",\n        \"description\": \"\"\n      }\n    },\n    {\n      \"column\": \"ca\",\n      \"properties\": {\n        \"dtype\": \"number\",\n        \"std\": 1,\n        \"min\": 0,\n        \"max\": 4,\n        \"num_unique_values\": 5,\n        \"samples\": [\n          0,\n          4\n        ],\n        \"semantic_type\": \"\",\n        \"description\": \"\"\n      }\n    },\n    {\n      \"column\": \"thal\",\n      \"properties\": {\n        \"dtype\": \"number\",\n        \"std\": 0,\n        \"min\": 0,\n        \"max\": 3,\n        \"num_unique_values\": 4,\n        \"samples\": [\n          2,\n          0\n        ],\n        \"semantic_type\": \"\",\n        \"description\": \"\"\n      }\n    },\n    {\n      \"column\": \"target\",\n      \"properties\": {\n        \"dtype\": \"number\",\n        \"std\": 0,\n        \"min\": 0,\n        \"max\": 1,\n        \"num_unique_values\": 2,\n        \"samples\": [\n          1,\n          0\n        ],\n        \"semantic_type\": \"\",\n        \"description\": \"\"\n      }\n    }\n  ]\n}"
            }
          },
          "metadata": {},
          "execution_count": 54
        }
      ],
      "source": [
        "import pandas as pd\n",
        "\n",
        "# Load dataset correctly\n",
        "heart_data = pd.read_csv(\"/content/heart disease.csv\")\n",
        "\n",
        "# Check if the data is loaded correctly\n",
        "heart_data.head(10) # Display first few rows\n"
      ]
    },
    {
      "cell_type": "code",
      "source": [
        "print(heart_data.info())  # Check data types and columns"
      ],
      "metadata": {
        "colab": {
          "base_uri": "https://localhost:8080/"
        },
        "id": "4377mTxw2ubS",
        "outputId": "22d8f8fa-aeaf-46dc-d393-f4168b53b6b1"
      },
      "id": "4377mTxw2ubS",
      "execution_count": 55,
      "outputs": [
        {
          "output_type": "stream",
          "name": "stdout",
          "text": [
            "<class 'pandas.core.frame.DataFrame'>\n",
            "RangeIndex: 1025 entries, 0 to 1024\n",
            "Data columns (total 14 columns):\n",
            " #   Column    Non-Null Count  Dtype  \n",
            "---  ------    --------------  -----  \n",
            " 0   age       1025 non-null   int64  \n",
            " 1   sex       1025 non-null   int64  \n",
            " 2   cp        1025 non-null   int64  \n",
            " 3   trestbps  1025 non-null   int64  \n",
            " 4   chol      1025 non-null   int64  \n",
            " 5   fbs       1025 non-null   int64  \n",
            " 6   restecg   1025 non-null   int64  \n",
            " 7   thalach   1025 non-null   int64  \n",
            " 8   exang     1025 non-null   int64  \n",
            " 9   oldpeak   1025 non-null   float64\n",
            " 10  slope     1025 non-null   int64  \n",
            " 11  ca        1025 non-null   int64  \n",
            " 12  thal      1025 non-null   int64  \n",
            " 13  target    1025 non-null   int64  \n",
            "dtypes: float64(1), int64(13)\n",
            "memory usage: 112.2 KB\n",
            "None\n"
          ]
        }
      ]
    },
    {
      "cell_type": "markdown",
      "id": "9e099a26",
      "metadata": {
        "papermill": {
          "duration": 0.005133,
          "end_time": "2025-03-21T10:59:10.518721",
          "exception": false,
          "start_time": "2025-03-21T10:59:10.513588",
          "status": "completed"
        },
        "tags": [],
        "id": "9e099a26"
      },
      "source": [
        "2.DATA PREPROCESSING PIPELINE"
      ]
    },
    {
      "cell_type": "code",
      "execution_count": 56,
      "id": "f09ccbc4",
      "metadata": {
        "execution": {
          "iopub.execute_input": "2025-03-21T10:59:10.530758Z",
          "iopub.status.busy": "2025-03-21T10:59:10.530427Z",
          "iopub.status.idle": "2025-03-21T10:59:10.535454Z",
          "shell.execute_reply": "2025-03-21T10:59:10.534332Z"
        },
        "papermill": {
          "duration": 0.013037,
          "end_time": "2025-03-21T10:59:10.537117",
          "exception": false,
          "start_time": "2025-03-21T10:59:10.524080",
          "status": "completed"
        },
        "tags": [],
        "id": "f09ccbc4"
      },
      "outputs": [],
      "source": [
        "from sklearn.preprocessing import StandardScaler, OneHotEncoder\n",
        "from sklearn.compose import ColumnTransformer\n",
        "\n",
        "# Identify categorical and numerical columns\n",
        "categorical_cols = ['sex', 'cp', 'fbs', 'restecg', 'exang', 'slope', 'thal']\n",
        "numerical_cols = ['age', 'trestbps', 'chol', 'thalach', 'oldpeak', 'ca']"
      ]
    },
    {
      "cell_type": "code",
      "execution_count": 57,
      "id": "558dc97e",
      "metadata": {
        "execution": {
          "iopub.execute_input": "2025-03-21T10:59:10.549682Z",
          "iopub.status.busy": "2025-03-21T10:59:10.549283Z",
          "iopub.status.idle": "2025-03-21T10:59:10.554106Z",
          "shell.execute_reply": "2025-03-21T10:59:10.552861Z"
        },
        "papermill": {
          "duration": 0.012949,
          "end_time": "2025-03-21T10:59:10.555914",
          "exception": false,
          "start_time": "2025-03-21T10:59:10.542965",
          "status": "completed"
        },
        "tags": [],
        "id": "558dc97e"
      },
      "outputs": [],
      "source": [
        "# Define ColumnTransformer (same as training)\n",
        "preprocessor = ColumnTransformer(\n",
        "    transformers=[\n",
        "        ('num', StandardScaler(), numerical_cols),  # Scale numerical features\n",
        "        ('cat', OneHotEncoder(drop='first'), categorical_cols)  # One-hot encode categorical features\n",
        "    ]\n",
        ")\n"
      ]
    },
    {
      "cell_type": "markdown",
      "id": "1897d54d",
      "metadata": {
        "papermill": {
          "duration": 0.005395,
          "end_time": "2025-03-21T10:59:10.567033",
          "exception": false,
          "start_time": "2025-03-21T10:59:10.561638",
          "status": "completed"
        },
        "tags": [],
        "id": "1897d54d"
      },
      "source": [
        "3. SEPARATE TARGET COLUMN(Y) FROM FEATURES(X)"
      ]
    },
    {
      "cell_type": "code",
      "execution_count": 58,
      "id": "9f282e17",
      "metadata": {
        "execution": {
          "iopub.execute_input": "2025-03-21T10:59:10.579561Z",
          "iopub.status.busy": "2025-03-21T10:59:10.579150Z",
          "iopub.status.idle": "2025-03-21T10:59:10.591085Z",
          "shell.execute_reply": "2025-03-21T10:59:10.589692Z"
        },
        "papermill": {
          "duration": 0.020316,
          "end_time": "2025-03-21T10:59:10.592769",
          "exception": false,
          "start_time": "2025-03-21T10:59:10.572453",
          "status": "completed"
        },
        "tags": [],
        "colab": {
          "base_uri": "https://localhost:8080/"
        },
        "id": "9f282e17",
        "outputId": "4f334b43-6102-44c1-abec-04b5fd4ac8be"
      },
      "outputs": [
        {
          "output_type": "stream",
          "name": "stdout",
          "text": [
            "   age  sex  cp  trestbps  chol  fbs  restecg  thalach  exang  oldpeak  slope  \\\n",
            "0   52    1   0       125   212    0        1      168      0      1.0      2   \n",
            "1   53    1   0       140   203    1        0      155      1      3.1      0   \n",
            "2   70    1   0       145   174    0        1      125      1      2.6      0   \n",
            "3   61    1   0       148   203    0        1      161      0      0.0      2   \n",
            "4   62    0   0       138   294    1        1      106      0      1.9      1   \n",
            "\n",
            "   ca  thal  \n",
            "0   2     3  \n",
            "1   0     3  \n",
            "2   0     3  \n",
            "3   1     3  \n",
            "4   3     2  \n"
          ]
        }
      ],
      "source": [
        "# If it's a string, reload it correctly\n",
        "if isinstance(heart_data, str):\n",
        "    heart_data = pd.read_csv(\"../content/heart 1000 rows.csv\")\n",
        "\n",
        "# Now, try dropping the target column\n",
        "heart_data_no_target = heart_data.drop(columns=['target'])\n",
        "print(heart_data_no_target.head())\n"
      ]
    },
    {
      "cell_type": "markdown",
      "id": "667a98da",
      "metadata": {
        "papermill": {
          "duration": 0.005837,
          "end_time": "2025-03-21T10:59:10.604506",
          "exception": false,
          "start_time": "2025-03-21T10:59:10.598669",
          "status": "completed"
        },
        "tags": [],
        "id": "667a98da"
      },
      "source": [
        "3. DEFINE INPUT(X) AND OUTPUT(Y)"
      ]
    },
    {
      "cell_type": "code",
      "execution_count": 62,
      "id": "2596832d",
      "metadata": {
        "execution": {
          "iopub.execute_input": "2025-03-21T10:59:10.617286Z",
          "iopub.status.busy": "2025-03-21T10:59:10.616897Z",
          "iopub.status.idle": "2025-03-21T10:59:10.639947Z",
          "shell.execute_reply": "2025-03-21T10:59:10.638914Z"
        },
        "papermill": {
          "duration": 0.031807,
          "end_time": "2025-03-21T10:59:10.641922",
          "exception": false,
          "start_time": "2025-03-21T10:59:10.610115",
          "status": "completed"
        },
        "tags": [],
        "id": "2596832d"
      },
      "outputs": [],
      "source": [
        "import pandas as pd\n",
        "\n",
        "# Load dataset\n",
        "heart_data = pd.read_csv(\"/content/heart disease.csv\")\n",
        "\n",
        "# Define input (X) and output (y)\n",
        "X = heart_data.drop(columns=['target'])  # All features except 'target'\n",
        "y = heart_data['target']  # Target column\n",
        "\n",
        "# Fit and transform the data\n",
        "X_processed = preprocessor.fit_transform(X)"
      ]
    },
    {
      "cell_type": "code",
      "execution_count": 63,
      "id": "a9426b48",
      "metadata": {
        "execution": {
          "iopub.execute_input": "2025-03-21T10:59:10.654694Z",
          "iopub.status.busy": "2025-03-21T10:59:10.654352Z",
          "iopub.status.idle": "2025-03-21T10:59:10.665256Z",
          "shell.execute_reply": "2025-03-21T10:59:10.664092Z"
        },
        "papermill": {
          "duration": 0.019141,
          "end_time": "2025-03-21T10:59:10.666901",
          "exception": false,
          "start_time": "2025-03-21T10:59:10.647760",
          "status": "completed"
        },
        "tags": [],
        "colab": {
          "base_uri": "https://localhost:8080/"
        },
        "id": "a9426b48",
        "outputId": "4917c1a2-56aa-4219-cc1b-e0c29d8f5efb"
      },
      "outputs": [
        {
          "output_type": "execute_result",
          "data": {
            "text/plain": [
              "['preprocessor.pkl']"
            ]
          },
          "metadata": {},
          "execution_count": 63
        }
      ],
      "source": [
        "from joblib import dump\n",
        "dump(preprocessor, 'preprocessor.pkl')  # Save it for later\n"
      ]
    },
    {
      "cell_type": "markdown",
      "id": "b465b7ca",
      "metadata": {
        "papermill": {
          "duration": 0.00544,
          "end_time": "2025-03-21T10:59:10.678046",
          "exception": false,
          "start_time": "2025-03-21T10:59:10.672606",
          "status": "completed"
        },
        "tags": [],
        "id": "b465b7ca"
      },
      "source": [
        "4.SPLIT DATA INTO TRAINING AND TESTING THE DATA"
      ]
    },
    {
      "cell_type": "code",
      "execution_count": 64,
      "id": "49b423f7",
      "metadata": {
        "execution": {
          "iopub.execute_input": "2025-03-21T10:59:10.690758Z",
          "iopub.status.busy": "2025-03-21T10:59:10.690387Z",
          "iopub.status.idle": "2025-03-21T10:59:10.845375Z",
          "shell.execute_reply": "2025-03-21T10:59:10.844079Z"
        },
        "papermill": {
          "duration": 0.163737,
          "end_time": "2025-03-21T10:59:10.847572",
          "exception": false,
          "start_time": "2025-03-21T10:59:10.683835",
          "status": "completed"
        },
        "tags": [],
        "id": "49b423f7"
      },
      "outputs": [],
      "source": [
        "\n",
        "from sklearn.model_selection import train_test_split\n",
        "\n",
        "# Split into training (80%) and testing (20%) sets\n",
        "X_train, X_test, y_train, y_test = train_test_split(X_processed, y, test_size=0.2, random_state=42, stratify=y)\n"
      ]
    },
    {
      "cell_type": "markdown",
      "id": "9b54feb3",
      "metadata": {
        "papermill": {
          "duration": 0.00544,
          "end_time": "2025-03-21T10:59:10.859082",
          "exception": false,
          "start_time": "2025-03-21T10:59:10.853642",
          "status": "completed"
        },
        "tags": [],
        "id": "9b54feb3"
      },
      "source": [
        "5. DEFINE,TRAIN,COMPILE COMPLEX NEURAL NETWORK MODEL"
      ]
    },
    {
      "cell_type": "code",
      "execution_count": 65,
      "id": "0f98e367",
      "metadata": {
        "execution": {
          "iopub.execute_input": "2025-03-21T10:59:10.872609Z",
          "iopub.status.busy": "2025-03-21T10:59:10.872167Z",
          "iopub.status.idle": "2025-03-21T10:59:18.788238Z",
          "shell.execute_reply": "2025-03-21T10:59:18.787104Z"
        },
        "papermill": {
          "duration": 7.925188,
          "end_time": "2025-03-21T10:59:18.790070",
          "exception": false,
          "start_time": "2025-03-21T10:59:10.864882",
          "status": "completed"
        },
        "tags": [],
        "id": "0f98e367"
      },
      "outputs": [],
      "source": [
        "# Cell 16: Confusion Matrices for Neural Network and Random Forest\n",
        "from sklearn.ensemble import RandomForestClassifier\n",
        "from sklearn.metrics import accuracy_score, confusion_matrix\n",
        "from sklearn.model_selection import cross_val_score\n",
        "from tensorflow.keras.models import Sequential\n",
        "from tensorflow.keras.layers import Dense, Dropout, Input\n",
        "from tensorflow.keras.optimizers import Adam\n",
        "from tensorflow.keras.callbacks import EarlyStopping\n",
        "import seaborn as sns\n",
        "import matplotlib.pyplot as plt\n",
        "import numpy as np\n",
        "\n",
        "# Dictionary to store predictions\n",
        "predictions = {}\n",
        "# 1. Neural Network\n",
        "nn_model = Sequential([\n",
        "    Input(shape=(X_train.shape[1],)),\n",
        "    Dense(256, activation='relu'),\n",
        "    Dropout(0.4),\n",
        "    Dense(128, activation='relu'),\n",
        "    Dropout(0.4),\n",
        "    Dense(1, activation='sigmoid')\n",
        "])\n",
        "\n"
      ]
    },
    {
      "cell_type": "code",
      "source": [
        "nn_model.compile(optimizer=Adam(learning_rate=0.001), loss='binary_crossentropy', metrics=['accuracy'])\n",
        "early_stopping = EarlyStopping(monitor='val_loss', patience=5, restore_best_weights=True)"
      ],
      "metadata": {
        "id": "1YI2eTy95XDD"
      },
      "id": "1YI2eTy95XDD",
      "execution_count": 66,
      "outputs": []
    },
    {
      "cell_type": "code",
      "source": [
        "# Train the model and store history\n",
        "history = nn_model.fit(X_train, y_train, epochs=100, batch_size=32, validation_data=(X_test, y_test),\n",
        "                       callbacks=[early_stopping], verbose=0)"
      ],
      "metadata": {
        "id": "cfFoCEKk5bxs"
      },
      "id": "cfFoCEKk5bxs",
      "execution_count": 67,
      "outputs": []
    },
    {
      "cell_type": "code",
      "source": [
        "# Evaluate on test set\n",
        "test_loss, nn_test_accuracy = nn_model.evaluate(X_test, y_test, verbose=0)\n",
        "y_pred_nn = (nn_model.predict(X_test, verbose=0) > 0.5).astype(int).flatten()\n",
        "predictions['Neural Network'] = y_pred_nn\n",
        "print(f\"Neural Network Accuracy: {nn_test_accuracy * 100:.2f}%\")"
      ],
      "metadata": {
        "colab": {
          "base_uri": "https://localhost:8080/"
        },
        "id": "7VUlwLjs5fFY",
        "outputId": "317b5df4-d1e6-47b0-b13f-567a80c88dc8"
      },
      "id": "7VUlwLjs5fFY",
      "execution_count": 68,
      "outputs": [
        {
          "output_type": "stream",
          "name": "stderr",
          "text": [
            "WARNING:tensorflow:5 out of the last 15 calls to <function TensorFlowTrainer.make_predict_function.<locals>.one_step_on_data_distributed at 0x79de54257d80> triggered tf.function retracing. Tracing is expensive and the excessive number of tracings could be due to (1) creating @tf.function repeatedly in a loop, (2) passing tensors with different shapes, (3) passing Python objects instead of tensors. For (1), please define your @tf.function outside of the loop. For (2), @tf.function has reduce_retracing=True option that can avoid unnecessary retracing. For (3), please refer to https://www.tensorflow.org/guide/function#controlling_retracing and https://www.tensorflow.org/api_docs/python/tf/function for  more details.\n"
          ]
        },
        {
          "output_type": "stream",
          "name": "stdout",
          "text": [
            "Neural Network Accuracy: 100.00%\n"
          ]
        }
      ]
    },
    {
      "cell_type": "code",
      "source": [
        "# Plot training and validation accuracy\n",
        "plt.figure(figsize=(8, 6))\n",
        "plt.plot(history.history['accuracy'], label='Training Accuracy', color='#1f77b4')\n",
        "plt.plot(history.history['val_accuracy'], label='Validation Accuracy', color='#ff7f0e')\n",
        "plt.title('Neural Network Accuracy Over Epochs')\n",
        "plt.xlabel('Epoch')\n",
        "plt.ylabel('Accuracy')\n",
        "plt.legend()\n",
        "plt.grid(True)\n",
        "plt.show()"
      ],
      "metadata": {
        "colab": {
          "base_uri": "https://localhost:8080/",
          "height": 564
        },
        "id": "zlXfsGXY5xnd",
        "outputId": "a6e3ec4d-368c-4e36-cd37-e6c8b06569a6"
      },
      "id": "zlXfsGXY5xnd",
      "execution_count": 69,
      "outputs": [
        {
          "output_type": "display_data",
          "data": {
            "text/plain": [
              "<Figure size 800x600 with 1 Axes>"
            ],
            "image/png": "[encoded data removed]"
          },
          "metadata": {}
        }
      ]
    },
    {
      "cell_type": "code",
      "source": [
        "# 2. Random Forest\n",
        "rf_model = RandomForestClassifier(n_estimators=200, random_state=42)\n",
        "rf_model.fit(X_train, y_train)\n",
        "y_pred_rf = rf_model.predict(X_test)\n",
        "rf_test_accuracy = accuracy_score(y_test, y_pred_rf)\n",
        "predictions['Random Forest'] = y_pred_rf\n",
        "print(f\"Random Forest Accuracy: {rf_test_accuracy * 100:.2f}%\")"
      ],
      "metadata": {
        "colab": {
          "base_uri": "https://localhost:8080/"
        },
        "id": "14ua68vLyx2N",
        "outputId": "434908d2-ca49-4458-d8b0-7e8aef176602"
      },
      "id": "14ua68vLyx2N",
      "execution_count": 70,
      "outputs": [
        {
          "output_type": "stream",
          "name": "stdout",
          "text": [
            "Random Forest Accuracy: 100.00%\n"
          ]
        }
      ]
    },
    {
      "cell_type": "code",
      "source": [
        "# Random Forest Cross-Validation\n",
        "cv_scores = cross_val_score(rf_model, X_processed, y, cv=5)\n",
        "print(f\"Random Forest Cross-Validation Accuracy: {cv_scores.mean() * 100:.2f}% ± {cv_scores.std() * 100:.2f}%\")"
      ],
      "metadata": {
        "colab": {
          "base_uri": "https://localhost:8080/"
        },
        "id": "4T5sYlBUy5_7",
        "outputId": "6abccdad-429c-41ac-b817-0ab60816831a"
      },
      "id": "4T5sYlBUy5_7",
      "execution_count": 71,
      "outputs": [
        {
          "output_type": "stream",
          "name": "stdout",
          "text": [
            "Random Forest Cross-Validation Accuracy: 99.41% ± 0.72%\n"
          ]
        }
      ]
    },
    {
      "cell_type": "code",
      "source": [
        "# Confusion Matrices\n",
        "print(\"\\nConfusion Matrices:\")\n",
        "for model_name in ['Neural Network', 'Random Forest']:\n",
        "    y_pred = predictions[model_name]\n",
        "    cm = confusion_matrix(y_test, y_pred)\n",
        "    print(f\"\\n{model_name} Confusion Matrix:\\n{cm}\")\n",
        "    # Visualize with heatmap\n",
        "    plt.figure(figsize=(6, 4))\n",
        "    sns.heatmap(cm, annot=True, fmt='d', cmap='Blues', cbar=False,\n",
        "                xticklabels=['No Disease (0)', 'Disease (1)'],\n",
        "                yticklabels=['No Disease (0)', 'Disease (1)'])\n",
        "    plt.title(f'{model_name} Confusion Matrix')\n",
        "    plt.xlabel('Predicted')\n",
        "    plt.ylabel('Actual')\n",
        "    plt.show()"
      ],
      "metadata": {
        "colab": {
          "base_uri": "https://localhost:8080/",
          "height": 986
        },
        "id": "nVUVIduBzBGD",
        "outputId": "528df314-f696-4ec8-9e36-9e3ff4fea16d"
      },
      "id": "nVUVIduBzBGD",
      "execution_count": 72,
      "outputs": [
        {
          "output_type": "stream",
          "name": "stdout",
          "text": [
            "\n",
            "Confusion Matrices:\n",
            "\n",
            "Neural Network Confusion Matrix:\n",
            "[[100   0]\n",
            " [  0 105]]\n"
          ]
        },
        {
          "output_type": "display_data",
          "data": {
            "text/plain": [
              "<Figure size 600x400 with 1 Axes>"
            ],
            "image/png": "[encoded data removed]"
          },
          "metadata": {}
        },
        {
          "output_type": "stream",
          "name": "stdout",
          "text": [
            "\n",
            "Random Forest Confusion Matrix:\n",
            "[[100   0]\n",
            " [  0 105]]\n"
          ]
        },
        {
          "output_type": "display_data",
          "data": {
            "text/plain": [
              "<Figure size 600x400 with 1 Axes>"
            ],
            "image/png": "[encoded data removed]"
          },
          "metadata": {}
        }
      ]
    },
    {
      "cell_type": "code",
      "source": [
        "# Cell 17: Logistic Regression Model\n",
        "from sklearn.linear_model import LogisticRegression\n",
        "from sklearn.metrics import accuracy_score"
      ],
      "metadata": {
        "id": "8a4gkW6f-Hbb"
      },
      "id": "8a4gkW6f-Hbb",
      "execution_count": 73,
      "outputs": []
    },
    {
      "cell_type": "code",
      "source": [
        "# Initialize and train Logistic Regression model\n",
        "log_reg = LogisticRegression(random_state=42, max_iter=1000)\n",
        "log_reg.fit(X_train, y_train)\n",
        "\n",
        "# Predict and evaluate on test set\n",
        "y_pred_log_reg = log_reg.predict(X_test)\n",
        "log_reg_accuracy = accuracy_score(y_test, y_pred_log_reg)\n",
        "print(f\"Logistic Regression Accuracy: {log_reg_accuracy * 100:.2f}%\")"
      ],
      "metadata": {
        "colab": {
          "base_uri": "https://localhost:8080/"
        },
        "id": "qy9Mi42L-HpF",
        "outputId": "56c6b0e5-935c-4d23-9dce-84343aee2d87"
      },
      "id": "qy9Mi42L-HpF",
      "execution_count": 74,
      "outputs": [
        {
          "output_type": "stream",
          "name": "stdout",
          "text": [
            "Logistic Regression Accuracy: 84.88%\n"
          ]
        }
      ]
    },
    {
      "cell_type": "code",
      "source": [
        "# Perform 5-fold cross-validation\n",
        "log_reg_cv_scores = cross_val_score(log_reg, X_processed, y, cv=5)\n",
        "print(f\"Logistic Regression Cross-Validation Accuracy: {log_reg_cv_scores.mean() * 100:.2f}% ± {log_reg_cv_scores.std() * 100:.2f}%\")"
      ],
      "metadata": {
        "colab": {
          "base_uri": "https://localhost:8080/"
        },
        "id": "1x_7DB3Q-HtF",
        "outputId": "ba3af840-5928-450e-b81f-35c9f5bccad7"
      },
      "id": "1x_7DB3Q-HtF",
      "execution_count": 75,
      "outputs": [
        {
          "output_type": "stream",
          "name": "stdout",
          "text": [
            "Logistic Regression Cross-Validation Accuracy: 84.29% ± 2.42%\n"
          ]
        }
      ]
    },
    {
      "cell_type": "code",
      "source": [
        "# Confusion Matrix\n",
        "from sklearn.metrics import confusion_matrix # Import confusion_matrix\n",
        "import matplotlib.pyplot as plt # Import matplotlib for plotting\n",
        "import seaborn as sns\n",
        "cm_log_reg = confusion_matrix(y_test, y_pred_log_reg)\n",
        "print(f\"\\nLogistic Regression Confusion Matrix:\\n{cm_log_reg}\")\n",
        "plt.figure(figsize=(6, 4))\n",
        "sns.heatmap(cm_log_reg, annot=True, fmt='d', cmap='Blues', cbar=False,\n",
        "            xticklabels=['No Disease (0)', 'Disease (1)'],\n",
        "            yticklabels=['No Disease (0)', 'Disease (1)'])\n",
        "plt.title('Logistic Regression Confusion Matrix')\n",
        "plt.xlabel('Predicted')\n",
        "plt.ylabel('Actual')\n",
        "plt.show()"
      ],
      "metadata": {
        "colab": {
          "base_uri": "https://localhost:8080/",
          "height": 483
        },
        "id": "qvvF4x6-Bh5N",
        "outputId": "8803b499-ba4e-4432-e1a3-8daa58f516bf"
      },
      "id": "qvvF4x6-Bh5N",
      "execution_count": 76,
      "outputs": [
        {
          "output_type": "stream",
          "name": "stdout",
          "text": [
            "\n",
            "Logistic Regression Confusion Matrix:\n",
            "[[78 22]\n",
            " [ 9 96]]\n"
          ]
        },
        {
          "output_type": "display_data",
          "data": {
            "text/plain": [
              "<Figure size 600x400 with 1 Axes>"
            ],
            "image/png": "[encoded data removed]"
          },
          "metadata": {}
        }
      ]
    },
    {
      "cell_type": "code",
      "source": [
        "from sklearn.svm import SVC\n",
        "\n",
        "# Initialize and train SVM model\n",
        "svm_model = SVC(kernel='rbf', random_state=42, probability=True)\n",
        "svm_model.fit(X_train, y_train)\n",
        "\n",
        "# Predict and evaluate on test set\n",
        "y_pred_svm = svm_model.predict(X_test)\n",
        "svm_accuracy = accuracy_score(y_test, y_pred_svm)\n",
        "print(f\"SVM Accuracy: {svm_accuracy * 100:.2f}%\")"
      ],
      "metadata": {
        "colab": {
          "base_uri": "https://localhost:8080/"
        },
        "id": "hEwRtKT--uxn",
        "outputId": "2fb87af3-abf8-45b6-86e3-9ef5eef35a9a"
      },
      "id": "hEwRtKT--uxn",
      "execution_count": 77,
      "outputs": [
        {
          "output_type": "stream",
          "name": "stdout",
          "text": [
            "SVM Accuracy: 91.71%\n"
          ]
        }
      ]
    },
    {
      "cell_type": "code",
      "source": [
        "# Perform 5-fold cross-validation\n",
        "svm_cv_scores = cross_val_score(svm_model, X_processed, y, cv=5)\n",
        "print(f\"SVM Cross-Validation Accuracy: {svm_cv_scores.mean() * 100:.2f}% ± {svm_cv_scores.std() * 100:.2f}%\")"
      ],
      "metadata": {
        "colab": {
          "base_uri": "https://localhost:8080/"
        },
        "id": "G3_SEstn-u8B",
        "outputId": "9465b40f-1f9d-4b50-a3f6-0dde7e099223"
      },
      "id": "G3_SEstn-u8B",
      "execution_count": 78,
      "outputs": [
        {
          "output_type": "stream",
          "name": "stdout",
          "text": [
            "SVM Cross-Validation Accuracy: 91.80% ± 1.78%\n"
          ]
        }
      ]
    },
    {
      "cell_type": "code",
      "source": [
        "# Confusion Matrix\n",
        "cm_svm = confusion_matrix(y_test, y_pred_svm)\n",
        "print(f\"\\nSVM Confusion Matrix:\\n{cm_svm}\")\n",
        "plt.figure(figsize=(6, 4))\n",
        "sns.heatmap(cm_svm, annot=True, fmt='d', cmap='Blues', cbar=False,\n",
        "            xticklabels=['No Disease (0)', 'Disease (1)'],\n",
        "            yticklabels=['No Disease (0)', 'Disease (1)'])\n",
        "plt.title('SVM Confusion Matrix')\n",
        "plt.xlabel('Predicted')\n",
        "plt.ylabel('Actual')\n",
        "plt.show()"
      ],
      "metadata": {
        "colab": {
          "base_uri": "https://localhost:8080/",
          "height": 483
        },
        "id": "VF0yIsytwWzS",
        "outputId": "8ac98bab-440d-499c-a802-b1c3972d6ec9"
      },
      "id": "VF0yIsytwWzS",
      "execution_count": 79,
      "outputs": [
        {
          "output_type": "stream",
          "name": "stdout",
          "text": [
            "\n",
            "SVM Confusion Matrix:\n",
            "[[ 88  12]\n",
            " [  5 100]]\n"
          ]
        },
        {
          "output_type": "display_data",
          "data": {
            "text/plain": [
              "<Figure size 600x400 with 1 Axes>"
            ],
            "image/png": "[encoded data removed]"
          },
          "metadata": {}
        }
      ]
    },
    {
      "cell_type": "code",
      "source": [
        "# Cell 19: Gradient Boosting Classifier (XGBoost)\n",
        "from xgboost import XGBClassifier\n",
        "\n",
        "# Initialize and train XGBoost model\n",
        "xgb_model = XGBClassifier(n_estimators=200, random_state=42, eval_metric='logloss')\n",
        "xgb_model.fit(X_train, y_train)\n",
        "\n",
        "# Predict and evaluate on test set\n",
        "y_pred_xgb = xgb_model.predict(X_test)\n",
        "xgb_accuracy = accuracy_score(y_test, y_pred_xgb)\n",
        "print(f\"XGBoost Accuracy: {xgb_accuracy * 100:.2f}%\")"
      ],
      "metadata": {
        "colab": {
          "base_uri": "https://localhost:8080/"
        },
        "id": "M9dWtJXh-vES",
        "outputId": "473cf536-630a-4265-977a-3feafca7c54b"
      },
      "id": "M9dWtJXh-vES",
      "execution_count": 80,
      "outputs": [
        {
          "output_type": "stream",
          "name": "stdout",
          "text": [
            "XGBoost Accuracy: 100.00%\n"
          ]
        }
      ]
    },
    {
      "cell_type": "code",
      "source": [
        "# Perform 5-fold cross-validation\n",
        "xgb_cv_scores = cross_val_score(xgb_model, X_processed, y, cv=5)\n",
        "print(f\"XGBoost Cross-Validation Accuracy: {xgb_cv_scores.mean() * 100:.2f}% ± {xgb_cv_scores.std() * 100:.2f}%\")"
      ],
      "metadata": {
        "colab": {
          "base_uri": "https://localhost:8080/"
        },
        "id": "fs0fGBOt-_TM",
        "outputId": "e9d1ca63-458f-4f93-b675-20eb029cd416"
      },
      "id": "fs0fGBOt-_TM",
      "execution_count": 81,
      "outputs": [
        {
          "output_type": "stream",
          "name": "stdout",
          "text": [
            "XGBoost Cross-Validation Accuracy: 98.73% ± 1.14%\n"
          ]
        }
      ]
    },
    {
      "cell_type": "code",
      "source": [
        "# Confusion Matrix\n",
        "cm_xgb = confusion_matrix(y_test, y_pred_xgb)\n",
        "print(f\"\\nXGBoost Confusion Matrix:\\n{cm_xgb}\")\n",
        "plt.figure(figsize=(6, 4))\n",
        "sns.heatmap(cm_xgb, annot=True, fmt='d', cmap='Blues', cbar=False,\n",
        "            xticklabels=['No Disease (0)', 'Disease (1)'],\n",
        "            yticklabels=['No Disease (0)', 'Disease (1)'])\n",
        "plt.title('XGBoost Confusion Matrix')\n",
        "plt.xlabel('Predicted')\n",
        "plt.ylabel('Actual')\n",
        "plt.show()"
      ],
      "metadata": {
        "colab": {
          "base_uri": "https://localhost:8080/",
          "height": 483
        },
        "id": "jcEeT1eewhtt",
        "outputId": "b0e91332-030a-4234-adea-c2550676caf7"
      },
      "id": "jcEeT1eewhtt",
      "execution_count": 82,
      "outputs": [
        {
          "output_type": "stream",
          "name": "stdout",
          "text": [
            "\n",
            "XGBoost Confusion Matrix:\n",
            "[[100   0]\n",
            " [  0 105]]\n"
          ]
        },
        {
          "output_type": "display_data",
          "data": {
            "text/plain": [
              "<Figure size 600x400 with 1 Axes>"
            ],
            "image/png": "[encoded data removed]"
          },
          "metadata": {}
        }
      ]
    },
    {
      "cell_type": "code",
      "source": [
        "model_accuracies = {\n",
        "    'Neural Network': test_accuracy * 100,\n",
        "    'Random Forest': rf_accuracy * 100,\n",
        "    'Logistic Regression': log_reg_accuracy * 100,\n",
        "    'SVM': svm_accuracy * 100,\n",
        "    'XGBoost': xgb_accuracy * 100\n",
        "}"
      ],
      "metadata": {
        "id": "Nna4tIG6_Kll"
      },
      "id": "Nna4tIG6_Kll",
      "execution_count": 83,
      "outputs": []
    },
    {
      "cell_type": "code",
      "source": [
        "# Print comparison\n",
        "print(\"\\nModel Comparison (Test Accuracy):\")\n",
        "for model_name, accuracy in model_accuracies.items():\n",
        "    print(f\"{model_name}: {accuracy:.2f}%\")"
      ],
      "metadata": {
        "colab": {
          "base_uri": "https://localhost:8080/"
        },
        "id": "23uPJIyd_MqX",
        "outputId": "c3b6f262-817b-4bef-f552-8412fbf86cb4"
      },
      "id": "23uPJIyd_MqX",
      "execution_count": 84,
      "outputs": [
        {
          "output_type": "stream",
          "name": "stdout",
          "text": [
            "\n",
            "Model Comparison (Test Accuracy):\n",
            "Neural Network: 100.00%\n",
            "Random Forest: 100.00%\n",
            "Logistic Regression: 84.88%\n",
            "SVM: 91.71%\n",
            "XGBoost: 100.00%\n"
          ]
        }
      ]
    },
    {
      "cell_type": "code",
      "source": [
        "# Confusion Matrices\n",
        "print(\"\\nConfusion Matrices:\")\n",
        "for model_name, y_pred in predictions.items():\n",
        "    cm = confusion_matrix(y_test, y_pred)\n",
        "    print(f\"\\n{model_name} Confusion Matrix:\")\n",
        "    print(cm)\n",
        "    # Visualize with heatmap\n",
        "    plt.figure(figsize=(6, 4))\n",
        "    sns.heatmap(cm, annot=True, fmt='d', cmap='Blues', cbar=False,\n",
        "                xticklabels=['No Disease (0)', 'Disease (1)'],\n",
        "                yticklabels=['No Disease (0)', 'Disease (1)'])\n",
        "    plt.title(f'{model_name} Confusion Matrix')\n",
        "    plt.xlabel('Predicted')\n",
        "    plt.ylabel('Actual')\n",
        "    plt.show()"
      ],
      "metadata": {
        "colab": {
          "base_uri": "https://localhost:8080/",
          "height": 986
        },
        "id": "C4kkqqhnArjI",
        "outputId": "c95f537f-2b92-4932-8770-3f84d52e5534"
      },
      "id": "C4kkqqhnArjI",
      "execution_count": 85,
      "outputs": [
        {
          "output_type": "stream",
          "name": "stdout",
          "text": [
            "\n",
            "Confusion Matrices:\n",
            "\n",
            "Neural Network Confusion Matrix:\n",
            "[[100   0]\n",
            " [  0 105]]\n"
          ]
        },
        {
          "output_type": "display_data",
          "data": {
            "text/plain": [
              "<Figure size 600x400 with 1 Axes>"
            ],
            "image/png": "[encoded data removed]"
          },
          "metadata": {}
        },
        {
          "output_type": "stream",
          "name": "stdout",
          "text": [
            "\n",
            "Random Forest Confusion Matrix:\n",
            "[[100   0]\n",
            " [  0 105]]\n"
          ]
        },
        {
          "output_type": "display_data",
          "data": {
            "text/plain": [
              "<Figure size 600x400 with 1 Axes>"
            ],
            "image/png": "[encoded data removed]"
          },
          "metadata": {}
        }
      ]
    },
    {
      "cell_type": "markdown",
      "id": "1cf1e490",
      "metadata": {
        "papermill": {
          "duration": 0.025469,
          "end_time": "2025-03-21T10:59:26.804825",
          "exception": false,
          "start_time": "2025-03-21T10:59:26.779356",
          "status": "completed"
        },
        "tags": [],
        "id": "1cf1e490"
      },
      "source": [
        "8. SAVE TRAINED HEART DISEASE MODEL"
      ]
    },
    {
      "cell_type": "code",
      "execution_count": 88,
      "id": "6c2a1f6a",
      "metadata": {
        "execution": {
          "iopub.execute_input": "2025-03-21T10:59:26.855318Z",
          "iopub.status.busy": "2025-03-21T10:59:26.854865Z",
          "iopub.status.idle": "2025-03-21T10:59:26.886992Z",
          "shell.execute_reply": "2025-03-21T10:59:26.885818Z"
        },
        "papermill": {
          "duration": 0.059687,
          "end_time": "2025-03-21T10:59:26.889146",
          "exception": false,
          "start_time": "2025-03-21T10:59:26.829459",
          "status": "completed"
        },
        "tags": [],
        "colab": {
          "base_uri": "https://localhost:8080/"
        },
        "id": "6c2a1f6a",
        "outputId": "609e617e-8854-46ef-84bf-edb122241b71"
      },
      "outputs": [
        {
          "output_type": "execute_result",
          "data": {
            "text/plain": [
              "['best_heart_disease_model.pkl']"
            ]
          },
          "metadata": {},
          "execution_count": 88
        }
      ],
      "source": [
        "# Save the model\n",
        "dump(rf_model, \"best_heart_disease_model.pkl\")\n"
      ]
    },
    {
      "cell_type": "markdown",
      "id": "5e75fb0b",
      "metadata": {
        "papermill": {
          "duration": 0.024241,
          "end_time": "2025-03-21T10:59:27.121835",
          "exception": false,
          "start_time": "2025-03-21T10:59:27.097594",
          "status": "completed"
        },
        "tags": [],
        "id": "5e75fb0b"
      },
      "source": [
        "10.  DISEASE CLASS PREDICTION"
      ]
    },
    {
      "cell_type": "code",
      "execution_count": 89,
      "id": "eb11e76f",
      "metadata": {
        "execution": {
          "iopub.execute_input": "2025-03-21T10:59:26.989443Z",
          "iopub.status.busy": "2025-03-21T10:59:26.989102Z",
          "iopub.status.idle": "2025-03-21T10:59:27.069842Z",
          "shell.execute_reply": "2025-03-21T10:59:27.068902Z"
        },
        "papermill": {
          "duration": 0.108515,
          "end_time": "2025-03-21T10:59:27.071876",
          "exception": false,
          "start_time": "2025-03-21T10:59:26.963361",
          "status": "completed"
        },
        "tags": [],
        "colab": {
          "base_uri": "https://localhost:8080/"
        },
        "id": "eb11e76f",
        "outputId": "60eedafe-e6f7-4739-f9a1-97b70d4c5092"
      },
      "outputs": [
        {
          "output_type": "stream",
          "name": "stdout",
          "text": [
            "Prediction for new patient: Disease (Class: 1)\n"
          ]
        }
      ],
      "source": [
        "import pandas as pd\n",
        "from joblib import load\n",
        "\n",
        "# Load the saved Random Forest model\n",
        "model = load(\"best_heart_disease_model.pkl\")\n",
        "\n",
        "# Load the saved preprocessor\n",
        "preprocessor = load(\"preprocessor.pkl\")\n",
        "\n",
        "# Define new patient data (same as your example)\n",
        "new_input = pd.DataFrame([[58,0,0,100,248,0,0,122,0\t,1.0,\t1,0,2\t]],\n",
        "                         columns=['age', 'sex', 'cp', 'trestbps', 'chol', 'fbs',\n",
        "                                  'restecg', 'thalach', 'exang', 'oldpeak', 'slope', 'ca', 'thal'])\n",
        "\n",
        "# Preprocess new input\n",
        "new_input_processed = preprocessor.transform(new_input)\n",
        "\n",
        "# Make prediction\n",
        "prediction = model.predict(new_input_processed)[0]\n",
        "\n",
        "# Interpret result\n",
        "result = \"Disease\" if prediction == 1 else \"No Disease\"\n",
        "print(f\"Prediction for new patient: {result} (Class: {prediction})\")\n",
        "\n"
      ]
    },
    {
      "cell_type": "code",
      "execution_count": 87,
      "id": "9ed19bb9",
      "metadata": {
        "papermill": {
          "duration": 0.025541,
          "end_time": "2025-03-21T10:59:27.369577",
          "exception": false,
          "start_time": "2025-03-21T10:59:27.344036",
          "status": "completed"
        },
        "tags": [],
        "id": "9ed19bb9"
      },
      "outputs": [],
      "source": []
    },
    {
      "cell_type": "code",
      "execution_count": null,
      "id": "aacd6e6f",
      "metadata": {
        "papermill": {
          "duration": 0.024914,
          "end_time": "2025-03-21T10:59:27.420163",
          "exception": false,
          "start_time": "2025-03-21T10:59:27.395249",
          "status": "completed"
        },
        "tags": [],
        "id": "aacd6e6f"
      },
      "outputs": [],
      "source": []
    },
    {
      "cell_type": "code",
      "execution_count": null,
      "id": "096929f6",
      "metadata": {
        "papermill": {
          "duration": 0.024416,
          "end_time": "2025-03-21T10:59:27.469249",
          "exception": false,
          "start_time": "2025-03-21T10:59:27.444833",
          "status": "completed"
        },
        "tags": [],
        "id": "096929f6"
      },
      "outputs": [],
      "source": []
    }
  ],
  "metadata": {
    "kaggle": {
      "accelerator": "none",
      "dataSources": [
        {
          "datasetId": 216167,
          "sourceId": 477177,
          "sourceType": "datasetVersion"
        }
      ],
      "dockerImageVersionId": 30918,
      "isGpuEnabled": false,
      "isInternetEnabled": true,
      "language": "python",
      "sourceType": "notebook"
    },
    "kernelspec": {
      "display_name": "Python 3",
      "language": "python",
      "name": "python3"
    },
    "language_info": {
      "codemirror_mode": {
        "name": "ipython",
        "version": 3
      },
      "file_extension": ".py",
      "mimetype": "text/x-python",
      "name": "python",
      "nbconvert_exporter": "python",
      "pygments_lexer": "ipython3",
      "version": "3.10.12"
    },
    "papermill": {
      "default_parameters": {},
      "duration": 40.566961,
      "end_time": "2025-03-21T10:59:29.321762",
      "environment_variables": {},
      "exception": null,
      "input_path": "__notebook__.ipynb",
      "output_path": "__notebook__.ipynb",
      "parameters": {},
      "start_time": "2025-03-21T10:58:48.754801",
      "version": "2.6.0"
    },
    "colab": {
      "provenance": []
    }
  },
  "nbformat": 4,
  "nbformat_minor": 5
}